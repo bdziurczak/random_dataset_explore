{
 "cells": [
  {
   "cell_type": "code",
   "id": "initial_id",
   "metadata": {
    "collapsed": true,
    "ExecuteTime": {
     "end_time": "2024-12-24T10:03:21.290991Z",
     "start_time": "2024-12-24T10:03:21.285366Z"
    }
   },
   "source": [
    "import pandas as pd\n",
    "import numpy as np"
   ],
   "outputs": [],
   "execution_count": 77
  },
  {
   "metadata": {},
   "cell_type": "markdown",
   "source": [
    "I want to explore some data. Let's use data about Tourism and Economic Impact Dataset that is available here: https://www.kaggle.com/datasets/bushraqurban/tourism-and-economic-impact\n",
    "I've downloaded it into data folder"
   ],
   "id": "859828e938e92168"
  },
  {
   "metadata": {
    "ExecuteTime": {
     "end_time": "2024-12-24T12:52:20.951467Z",
     "start_time": "2024-12-24T12:52:20.907609Z"
    }
   },
   "cell_type": "code",
   "source": [
    "df = pd.read_csv('data/world_tourism_economy_data.csv')\n",
    "df.head(10)\n",
    "len(df)"
   ],
   "id": "b752ad1b7da9381b",
   "outputs": [
    {
     "data": {
      "text/plain": [
       "6650"
      ]
     },
     "execution_count": 344,
     "metadata": {},
     "output_type": "execute_result"
    }
   ],
   "execution_count": 344
  },
  {
   "metadata": {},
   "cell_type": "markdown",
   "source": "I want to visualize some data. Let's plot country name along with gdp and tourism receipts. Next I want to plot how much % of gdp consists of tourism",
   "id": "12f372b72597ac55"
  },
  {
   "metadata": {},
   "cell_type": "markdown",
   "source": "But to do that I need to learn basic of matplotlib",
   "id": "7ce87aff9909ff98"
  },
  {
   "metadata": {
    "ExecuteTime": {
     "end_time": "2024-12-24T09:07:34.412528Z",
     "start_time": "2024-12-24T09:07:34.379159Z"
    }
   },
   "cell_type": "code",
   "source": [
    "tdf = df[df.country != 'World']\n",
    "tdf[['country', 'gdp', 'tourism_receipts']].sort_values(by='gdp', ascending=False).head(30)"
   ],
   "id": "3728b2d2ba7d800",
   "outputs": [
    {
     "data": {
      "text/plain": [
       "                        country           gdp  tourism_receipts\n",
       "6479                High income  6.827649e+13               NaN\n",
       "6213                High income  6.496126e+13               NaN\n",
       "6565               OECD members  6.474656e+13               NaN\n",
       "5947                High income  6.273789e+13               NaN\n",
       "6299               OECD members  6.069133e+13               NaN\n",
       "6582  Post-demographic dividend  6.048525e+13               NaN\n",
       "6033               OECD members  5.916960e+13               NaN\n",
       "5415                High income  5.735101e+13      1.152147e+12\n",
       "6316  Post-demographic dividend  5.706675e+13               NaN\n",
       "5149                High income  5.679396e+13      1.147991e+12\n",
       "5681                High income  5.594626e+13               NaN\n",
       "6050  Post-demographic dividend  5.582887e+13               NaN\n",
       "5501               OECD members  5.417948e+13      9.970637e+11\n",
       "5235               OECD members  5.363177e+13      9.843060e+11\n",
       "4883                High income  5.344317e+13      1.059775e+12\n",
       "4085                High income  5.342493e+13      9.962883e+11\n",
       "5767               OECD members  5.300081e+13               NaN\n",
       "3819                High income  5.254570e+13      9.379659e+11\n",
       "3553                High income  5.180355e+13      8.715600e+11\n",
       "3287                High income  5.163766e+13      8.371418e+11\n",
       "5518  Post-demographic dividend  5.113489e+13      1.000793e+12\n",
       "4617                High income  5.084086e+13      9.897030e+11\n",
       "4969               OECD members  5.071204e+13      9.075713e+11\n",
       "5252  Post-demographic dividend  5.059812e+13      1.011619e+12\n",
       "4171               OECD members  5.049938e+13      8.604182e+11\n",
       "5784  Post-demographic dividend  5.014084e+13               NaN\n",
       "4351                High income  4.987550e+13      9.695818e+11\n",
       "3905               OECD members  4.946458e+13      8.109309e+11\n",
       "3373               OECD members  4.883293e+13      7.359993e+11\n",
       "3639               OECD members  4.876943e+13      7.549178e+11"
      ],
      "text/html": [
       "<div>\n",
       "<style scoped>\n",
       "    .dataframe tbody tr th:only-of-type {\n",
       "        vertical-align: middle;\n",
       "    }\n",
       "\n",
       "    .dataframe tbody tr th {\n",
       "        vertical-align: top;\n",
       "    }\n",
       "\n",
       "    .dataframe thead th {\n",
       "        text-align: right;\n",
       "    }\n",
       "</style>\n",
       "<table border=\"1\" class=\"dataframe\">\n",
       "  <thead>\n",
       "    <tr style=\"text-align: right;\">\n",
       "      <th></th>\n",
       "      <th>country</th>\n",
       "      <th>gdp</th>\n",
       "      <th>tourism_receipts</th>\n",
       "    </tr>\n",
       "  </thead>\n",
       "  <tbody>\n",
       "    <tr>\n",
       "      <th>6479</th>\n",
       "      <td>High income</td>\n",
       "      <td>6.827649e+13</td>\n",
       "      <td>NaN</td>\n",
       "    </tr>\n",
       "    <tr>\n",
       "      <th>6213</th>\n",
       "      <td>High income</td>\n",
       "      <td>6.496126e+13</td>\n",
       "      <td>NaN</td>\n",
       "    </tr>\n",
       "    <tr>\n",
       "      <th>6565</th>\n",
       "      <td>OECD members</td>\n",
       "      <td>6.474656e+13</td>\n",
       "      <td>NaN</td>\n",
       "    </tr>\n",
       "    <tr>\n",
       "      <th>5947</th>\n",
       "      <td>High income</td>\n",
       "      <td>6.273789e+13</td>\n",
       "      <td>NaN</td>\n",
       "    </tr>\n",
       "    <tr>\n",
       "      <th>6299</th>\n",
       "      <td>OECD members</td>\n",
       "      <td>6.069133e+13</td>\n",
       "      <td>NaN</td>\n",
       "    </tr>\n",
       "    <tr>\n",
       "      <th>6582</th>\n",
       "      <td>Post-demographic dividend</td>\n",
       "      <td>6.048525e+13</td>\n",
       "      <td>NaN</td>\n",
       "    </tr>\n",
       "    <tr>\n",
       "      <th>6033</th>\n",
       "      <td>OECD members</td>\n",
       "      <td>5.916960e+13</td>\n",
       "      <td>NaN</td>\n",
       "    </tr>\n",
       "    <tr>\n",
       "      <th>5415</th>\n",
       "      <td>High income</td>\n",
       "      <td>5.735101e+13</td>\n",
       "      <td>1.152147e+12</td>\n",
       "    </tr>\n",
       "    <tr>\n",
       "      <th>6316</th>\n",
       "      <td>Post-demographic dividend</td>\n",
       "      <td>5.706675e+13</td>\n",
       "      <td>NaN</td>\n",
       "    </tr>\n",
       "    <tr>\n",
       "      <th>5149</th>\n",
       "      <td>High income</td>\n",
       "      <td>5.679396e+13</td>\n",
       "      <td>1.147991e+12</td>\n",
       "    </tr>\n",
       "    <tr>\n",
       "      <th>5681</th>\n",
       "      <td>High income</td>\n",
       "      <td>5.594626e+13</td>\n",
       "      <td>NaN</td>\n",
       "    </tr>\n",
       "    <tr>\n",
       "      <th>6050</th>\n",
       "      <td>Post-demographic dividend</td>\n",
       "      <td>5.582887e+13</td>\n",
       "      <td>NaN</td>\n",
       "    </tr>\n",
       "    <tr>\n",
       "      <th>5501</th>\n",
       "      <td>OECD members</td>\n",
       "      <td>5.417948e+13</td>\n",
       "      <td>9.970637e+11</td>\n",
       "    </tr>\n",
       "    <tr>\n",
       "      <th>5235</th>\n",
       "      <td>OECD members</td>\n",
       "      <td>5.363177e+13</td>\n",
       "      <td>9.843060e+11</td>\n",
       "    </tr>\n",
       "    <tr>\n",
       "      <th>4883</th>\n",
       "      <td>High income</td>\n",
       "      <td>5.344317e+13</td>\n",
       "      <td>1.059775e+12</td>\n",
       "    </tr>\n",
       "    <tr>\n",
       "      <th>4085</th>\n",
       "      <td>High income</td>\n",
       "      <td>5.342493e+13</td>\n",
       "      <td>9.962883e+11</td>\n",
       "    </tr>\n",
       "    <tr>\n",
       "      <th>5767</th>\n",
       "      <td>OECD members</td>\n",
       "      <td>5.300081e+13</td>\n",
       "      <td>NaN</td>\n",
       "    </tr>\n",
       "    <tr>\n",
       "      <th>3819</th>\n",
       "      <td>High income</td>\n",
       "      <td>5.254570e+13</td>\n",
       "      <td>9.379659e+11</td>\n",
       "    </tr>\n",
       "    <tr>\n",
       "      <th>3553</th>\n",
       "      <td>High income</td>\n",
       "      <td>5.180355e+13</td>\n",
       "      <td>8.715600e+11</td>\n",
       "    </tr>\n",
       "    <tr>\n",
       "      <th>3287</th>\n",
       "      <td>High income</td>\n",
       "      <td>5.163766e+13</td>\n",
       "      <td>8.371418e+11</td>\n",
       "    </tr>\n",
       "    <tr>\n",
       "      <th>5518</th>\n",
       "      <td>Post-demographic dividend</td>\n",
       "      <td>5.113489e+13</td>\n",
       "      <td>1.000793e+12</td>\n",
       "    </tr>\n",
       "    <tr>\n",
       "      <th>4617</th>\n",
       "      <td>High income</td>\n",
       "      <td>5.084086e+13</td>\n",
       "      <td>9.897030e+11</td>\n",
       "    </tr>\n",
       "    <tr>\n",
       "      <th>4969</th>\n",
       "      <td>OECD members</td>\n",
       "      <td>5.071204e+13</td>\n",
       "      <td>9.075713e+11</td>\n",
       "    </tr>\n",
       "    <tr>\n",
       "      <th>5252</th>\n",
       "      <td>Post-demographic dividend</td>\n",
       "      <td>5.059812e+13</td>\n",
       "      <td>1.011619e+12</td>\n",
       "    </tr>\n",
       "    <tr>\n",
       "      <th>4171</th>\n",
       "      <td>OECD members</td>\n",
       "      <td>5.049938e+13</td>\n",
       "      <td>8.604182e+11</td>\n",
       "    </tr>\n",
       "    <tr>\n",
       "      <th>5784</th>\n",
       "      <td>Post-demographic dividend</td>\n",
       "      <td>5.014084e+13</td>\n",
       "      <td>NaN</td>\n",
       "    </tr>\n",
       "    <tr>\n",
       "      <th>4351</th>\n",
       "      <td>High income</td>\n",
       "      <td>4.987550e+13</td>\n",
       "      <td>9.695818e+11</td>\n",
       "    </tr>\n",
       "    <tr>\n",
       "      <th>3905</th>\n",
       "      <td>OECD members</td>\n",
       "      <td>4.946458e+13</td>\n",
       "      <td>8.109309e+11</td>\n",
       "    </tr>\n",
       "    <tr>\n",
       "      <th>3373</th>\n",
       "      <td>OECD members</td>\n",
       "      <td>4.883293e+13</td>\n",
       "      <td>7.359993e+11</td>\n",
       "    </tr>\n",
       "    <tr>\n",
       "      <th>3639</th>\n",
       "      <td>OECD members</td>\n",
       "      <td>4.876943e+13</td>\n",
       "      <td>7.549178e+11</td>\n",
       "    </tr>\n",
       "  </tbody>\n",
       "</table>\n",
       "</div>"
      ]
     },
     "execution_count": 31,
     "metadata": {},
     "output_type": "execute_result"
    }
   ],
   "execution_count": 31
  },
  {
   "metadata": {},
   "cell_type": "markdown",
   "source": [
    "There are many rows with country value which's not a country. I want to fix it using some file with all countries in the world.\n",
    "\n",
    "I want to turn country list into convenient csv file, and then into pandas dataframe"
   ],
   "id": "43f0cb0b16500c1"
  },
  {
   "metadata": {
    "ExecuteTime": {
     "end_time": "2024-12-24T13:09:03.194145Z",
     "start_time": "2024-12-24T13:09:03.159547Z"
    }
   },
   "cell_type": "code",
   "source": [
    "with open('data/all_countries_in_the_world.txt') as src, open('data/all_countries_in_the_world.csv', 'w') as dest:\n",
    "    for line in src:\n",
    "        stripped_line = line.strip()\n",
    "        if stripped_line:\n",
    "            dest.write(stripped_line + ',')\n",
    "countries = pd.read_csv('data/all_countries_in_the_world.csv')"
   ],
   "id": "e9c4517760a76c35",
   "outputs": [],
   "execution_count": 394
  },
  {
   "metadata": {
    "ExecuteTime": {
     "end_time": "2024-12-24T09:09:38.302297Z",
     "start_time": "2024-12-24T09:09:38.284688Z"
    }
   },
   "cell_type": "code",
   "source": "countries",
   "id": "5cca241cdc7e8b26",
   "outputs": [
    {
     "data": {
      "text/plain": [
       "Empty DataFrame\n",
       "Columns: [Afghanistan, Albania, Algeria, Andorra, Angola, Antigua and Barbuda, Argentina, Armenia, Australia, Austria, Azerbaijan, The Bahamas, Bahrain, Bangladesh, Barbados, Belarus, Belgium, Belize, Benin, Bhutan, Bolivia, Bosnia and Herzegovina, Botswana, Brazil, Brunei, Bulgaria, Burkina Faso, Burundi, Cambodia, Cameroon, Canada, Cape Verde, Central African Republic, Chad, Chile, China, Colombia, Comoros, Congo,  Republic of the, Congo.1,  Democratic Republic of the, Costa Rica, Cote d'Ivoire, Croatia, Cuba, Cyprus, Czech Republic, Denmark, Djibouti, Dominica, Dominican Republic, East Timor (Timor-Leste), Ecuador, Egypt, El Salvador, Equatorial Guinea, Eritrea, Estonia, Ethiopia, Fiji, Finland, France, Gabon, The Gambia, Georgia, Germany, Ghana, Greece, Grenada, Guatemala, Guinea, Guinea-Bissau, Guyana, Haiti, Honduras, Hungary, Iceland, India, Indonesia, Iran, Iraq, Ireland, Israel, Italy, Jamaica, Japan, Jordan, Kazakhstan, Kenya, Kiribati, Korea,  North, Korea.1,  South, Kosovo, Kuwait, Kyrgyzstan, Laos, Latvia, ...]\n",
       "Index: []\n",
       "\n",
       "[0 rows x 202 columns]"
      ],
      "text/html": [
       "<div>\n",
       "<style scoped>\n",
       "    .dataframe tbody tr th:only-of-type {\n",
       "        vertical-align: middle;\n",
       "    }\n",
       "\n",
       "    .dataframe tbody tr th {\n",
       "        vertical-align: top;\n",
       "    }\n",
       "\n",
       "    .dataframe thead th {\n",
       "        text-align: right;\n",
       "    }\n",
       "</style>\n",
       "<table border=\"1\" class=\"dataframe\">\n",
       "  <thead>\n",
       "    <tr style=\"text-align: right;\">\n",
       "      <th></th>\n",
       "      <th>Afghanistan</th>\n",
       "      <th>Albania</th>\n",
       "      <th>Algeria</th>\n",
       "      <th>Andorra</th>\n",
       "      <th>Angola</th>\n",
       "      <th>Antigua and Barbuda</th>\n",
       "      <th>Argentina</th>\n",
       "      <th>Armenia</th>\n",
       "      <th>Australia</th>\n",
       "      <th>Austria</th>\n",
       "      <th>...</th>\n",
       "      <th>Uruguay</th>\n",
       "      <th>Uzbekistan</th>\n",
       "      <th>Vanuatu</th>\n",
       "      <th>Vatican City (Holy See)</th>\n",
       "      <th>Venezuela</th>\n",
       "      <th>Vietnam</th>\n",
       "      <th>Yemen</th>\n",
       "      <th>Zambia</th>\n",
       "      <th>Zimbabwe</th>\n",
       "      <th>Unnamed: 201</th>\n",
       "    </tr>\n",
       "  </thead>\n",
       "  <tbody>\n",
       "  </tbody>\n",
       "</table>\n",
       "<p>0 rows × 202 columns</p>\n",
       "</div>"
      ]
     },
     "execution_count": 34,
     "metadata": {},
     "output_type": "execute_result"
    }
   ],
   "execution_count": 34
  },
  {
   "metadata": {},
   "cell_type": "markdown",
   "source": "consider only those years where's data about tourism receipts",
   "id": "9c00e653eb248a9f"
  },
  {
   "metadata": {
    "ExecuteTime": {
     "end_time": "2024-12-24T13:59:04.187805Z",
     "start_time": "2024-12-24T13:59:04.171943Z"
    }
   },
   "cell_type": "code",
   "source": [
    "dtoplt = df[['country', 'gdp', 'tourism_receipts', 'year']] #data to plot\n",
    "dtoplt = dtoplt[\n",
    "    (dtoplt['country'].isin(countries)) &\n",
    "    (dtoplt['tourism_receipts'].notna())\n",
    "].sort_values(by='gdp', ascending=False)\n",
    "len(dtoplt)"
   ],
   "id": "573b982459011e00",
   "outputs": [
    {
     "data": {
      "text/plain": [
       "2829"
      ]
     },
     "execution_count": 529,
     "metadata": {},
     "output_type": "execute_result"
    }
   ],
   "execution_count": 529
  },
  {
   "metadata": {},
   "cell_type": "markdown",
   "source": "Handle NaN gdp values. Let's put into it gdp from a year before",
   "id": "ab7758e63111b845"
  },
  {
   "metadata": {
    "ExecuteTime": {
     "end_time": "2024-12-24T13:59:07.554885Z",
     "start_time": "2024-12-24T13:59:07.532522Z"
    }
   },
   "cell_type": "code",
   "source": [
    "#find other rows and take that with year closest to year of row where we have NaN gdp\n",
    "def fix_nan_gdp(country):\n",
    "    nan_country = dtoplt.loc[(dtoplt['gdp'].isna()) & (dtoplt['country'] == country)]\n",
    "    if len(nan_country):\n",
    "        not_nan_countries = dtoplt.loc[(dtoplt['country'] == country) & ~(dtoplt['gdp'].isna())]\n",
    "\n",
    "        years = not_nan_countries['year'].to_numpy()\n",
    "        replacing_year = years[0]\n",
    "        for nan_year in nan_country['year'].to_numpy():\n",
    "            for year in years:\n",
    "                if np.abs(year - nan_year) < np.abs(replacing_year - nan_year):\n",
    "                    replacing_year = year\n",
    "        #update NaN gdp\n",
    "        gdp = not_nan_countries.loc[not_nan_countries['year'] == replacing_year]['gdp'].head(1).item()\n",
    "        dtoplt.loc[(dtoplt.country == country) & (dtoplt.gdp.isna()), 'gdp'] = gdp\n",
    "fix_nan_gdp('South Sudan')\n",
    "fix_nan_gdp('Eritrea')\n",
    "\n"
   ],
   "id": "891011c5fc69e4f8",
   "outputs": [],
   "execution_count": 531
  },
  {
   "metadata": {
    "ExecuteTime": {
     "end_time": "2024-12-24T13:59:10.843383Z",
     "start_time": "2024-12-24T13:59:10.831194Z"
    }
   },
   "cell_type": "code",
   "source": "dtoplt[dtoplt['gdp'].isna()]",
   "id": "468f017e8de3fa61",
   "outputs": [
    {
     "data": {
      "text/plain": [
       "Empty DataFrame\n",
       "Columns: [country, gdp, tourism_receipts, year]\n",
       "Index: []"
      ],
      "text/html": [
       "<div>\n",
       "<style scoped>\n",
       "    .dataframe tbody tr th:only-of-type {\n",
       "        vertical-align: middle;\n",
       "    }\n",
       "\n",
       "    .dataframe tbody tr th {\n",
       "        vertical-align: top;\n",
       "    }\n",
       "\n",
       "    .dataframe thead th {\n",
       "        text-align: right;\n",
       "    }\n",
       "</style>\n",
       "<table border=\"1\" class=\"dataframe\">\n",
       "  <thead>\n",
       "    <tr style=\"text-align: right;\">\n",
       "      <th></th>\n",
       "      <th>country</th>\n",
       "      <th>gdp</th>\n",
       "      <th>tourism_receipts</th>\n",
       "      <th>year</th>\n",
       "    </tr>\n",
       "  </thead>\n",
       "  <tbody>\n",
       "  </tbody>\n",
       "</table>\n",
       "</div>"
      ]
     },
     "execution_count": 532,
     "metadata": {},
     "output_type": "execute_result"
    }
   ],
   "execution_count": 532
  }
 ],
 "metadata": {
  "kernelspec": {
   "display_name": "Python 3",
   "language": "python",
   "name": "python3"
  },
  "language_info": {
   "codemirror_mode": {
    "name": "ipython",
    "version": 2
   },
   "file_extension": ".py",
   "mimetype": "text/x-python",
   "name": "python",
   "nbconvert_exporter": "python",
   "pygments_lexer": "ipython2",
   "version": "2.7.6"
  }
 },
 "nbformat": 4,
 "nbformat_minor": 5
}
