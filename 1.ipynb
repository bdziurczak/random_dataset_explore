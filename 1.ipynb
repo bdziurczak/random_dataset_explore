{
 "cells": [
  {
   "cell_type": "code",
   "id": "initial_id",
   "metadata": {
    "collapsed": true,
    "ExecuteTime": {
     "end_time": "2024-12-26T13:14:33.799972Z",
     "start_time": "2024-12-26T13:14:33.794137Z"
    }
   },
   "source": [
    "import pandas as pd\n",
    "import numpy as np"
   ],
   "outputs": [],
   "execution_count": 3
  },
  {
   "metadata": {},
   "cell_type": "markdown",
   "source": [
    "I want to explore some data. Let's use data about Tourism and Economic Impact Dataset that is available here: https://www.kaggle.com/datasets/bushraqurban/tourism-and-economic-impact\n",
    "I've downloaded it into data folder"
   ],
   "id": "859828e938e92168"
  },
  {
   "metadata": {
    "ExecuteTime": {
     "end_time": "2024-12-26T13:14:35.909905Z",
     "start_time": "2024-12-26T13:14:35.863106Z"
    }
   },
   "cell_type": "code",
   "source": [
    "df = pd.read_csv('data/world_tourism_economy_data.csv')\n",
    "df.head(10)\n",
    "len(df)"
   ],
   "id": "b752ad1b7da9381b",
   "outputs": [
    {
     "data": {
      "text/plain": [
       "6650"
      ]
     },
     "execution_count": 4,
     "metadata": {},
     "output_type": "execute_result"
    }
   ],
   "execution_count": 4
  },
  {
   "metadata": {},
   "cell_type": "markdown",
   "source": "I want to visualize some data. Let's plot country name along with gdp and tourism receipts. Next I want to plot how much % of gdp consists of tourism",
   "id": "12f372b72597ac55"
  },
  {
   "metadata": {},
   "cell_type": "markdown",
   "source": "But to do that I need to learn basic of matplotlib",
   "id": "7ce87aff9909ff98"
  },
  {
   "metadata": {
    "ExecuteTime": {
     "end_time": "2024-12-26T13:14:41.576269Z",
     "start_time": "2024-12-26T13:14:41.545912Z"
    }
   },
   "cell_type": "code",
   "source": [
    "tdf = df[df.country != 'World']\n",
    "tdf[['country', 'gdp', 'tourism_receipts']].sort_values(by='gdp', ascending=False).head(5)"
   ],
   "id": "3728b2d2ba7d800",
   "outputs": [
    {
     "data": {
      "text/plain": [
       "           country           gdp  tourism_receipts\n",
       "6479   High income  6.827649e+13               NaN\n",
       "6213   High income  6.496126e+13               NaN\n",
       "6565  OECD members  6.474656e+13               NaN\n",
       "5947   High income  6.273789e+13               NaN\n",
       "6299  OECD members  6.069133e+13               NaN"
      ],
      "text/html": [
       "<div>\n",
       "<style scoped>\n",
       "    .dataframe tbody tr th:only-of-type {\n",
       "        vertical-align: middle;\n",
       "    }\n",
       "\n",
       "    .dataframe tbody tr th {\n",
       "        vertical-align: top;\n",
       "    }\n",
       "\n",
       "    .dataframe thead th {\n",
       "        text-align: right;\n",
       "    }\n",
       "</style>\n",
       "<table border=\"1\" class=\"dataframe\">\n",
       "  <thead>\n",
       "    <tr style=\"text-align: right;\">\n",
       "      <th></th>\n",
       "      <th>country</th>\n",
       "      <th>gdp</th>\n",
       "      <th>tourism_receipts</th>\n",
       "    </tr>\n",
       "  </thead>\n",
       "  <tbody>\n",
       "    <tr>\n",
       "      <th>6479</th>\n",
       "      <td>High income</td>\n",
       "      <td>6.827649e+13</td>\n",
       "      <td>NaN</td>\n",
       "    </tr>\n",
       "    <tr>\n",
       "      <th>6213</th>\n",
       "      <td>High income</td>\n",
       "      <td>6.496126e+13</td>\n",
       "      <td>NaN</td>\n",
       "    </tr>\n",
       "    <tr>\n",
       "      <th>6565</th>\n",
       "      <td>OECD members</td>\n",
       "      <td>6.474656e+13</td>\n",
       "      <td>NaN</td>\n",
       "    </tr>\n",
       "    <tr>\n",
       "      <th>5947</th>\n",
       "      <td>High income</td>\n",
       "      <td>6.273789e+13</td>\n",
       "      <td>NaN</td>\n",
       "    </tr>\n",
       "    <tr>\n",
       "      <th>6299</th>\n",
       "      <td>OECD members</td>\n",
       "      <td>6.069133e+13</td>\n",
       "      <td>NaN</td>\n",
       "    </tr>\n",
       "  </tbody>\n",
       "</table>\n",
       "</div>"
      ]
     },
     "execution_count": 6,
     "metadata": {},
     "output_type": "execute_result"
    }
   ],
   "execution_count": 6
  },
  {
   "metadata": {},
   "cell_type": "markdown",
   "source": [
    "There are many rows with country value which's not a country. I want to fix it using some file with all countries in the world.\n",
    "\n",
    "I want to turn country list into convenient csv file, and then into pandas dataframe"
   ],
   "id": "43f0cb0b16500c1"
  },
  {
   "metadata": {
    "ExecuteTime": {
     "end_time": "2024-12-26T13:14:44.486380Z",
     "start_time": "2024-12-26T13:14:44.446354Z"
    }
   },
   "cell_type": "code",
   "source": [
    "with open('data/all_countries_in_the_world.txt') as src, open('data/all_countries_in_the_world.csv', 'w') as dest:\n",
    "    for line in src:\n",
    "        stripped_line = line.strip()\n",
    "        if stripped_line:\n",
    "            dest.write(stripped_line + ',')\n",
    "countries = pd.read_csv('data/all_countries_in_the_world.csv')"
   ],
   "id": "e9c4517760a76c35",
   "outputs": [],
   "execution_count": 7
  },
  {
   "metadata": {
    "ExecuteTime": {
     "end_time": "2024-12-26T13:14:47.809312Z",
     "start_time": "2024-12-26T13:14:47.793874Z"
    }
   },
   "cell_type": "code",
   "source": "countries",
   "id": "5cca241cdc7e8b26",
   "outputs": [
    {
     "data": {
      "text/plain": [
       "Empty DataFrame\n",
       "Columns: [Afghanistan, Albania, Algeria, Andorra, Angola, Antigua and Barbuda, Argentina, Armenia, Australia, Austria, Azerbaijan, The Bahamas, Bahrain, Bangladesh, Barbados, Belarus, Belgium, Belize, Benin, Bhutan, Bolivia, Bosnia and Herzegovina, Botswana, Brazil, Brunei, Bulgaria, Burkina Faso, Burundi, Cambodia, Cameroon, Canada, Cape Verde, Central African Republic, Chad, Chile, China, Colombia, Comoros, Congo,  Republic of the, Congo.1,  Democratic Republic of the, Costa Rica, Cote d'Ivoire, Croatia, Cuba, Cyprus, Czech Republic, Denmark, Djibouti, Dominica, Dominican Republic, East Timor (Timor-Leste), Ecuador, Egypt, El Salvador, Equatorial Guinea, Eritrea, Estonia, Ethiopia, Fiji, Finland, France, Gabon, The Gambia, Georgia, Germany, Ghana, Greece, Grenada, Guatemala, Guinea, Guinea-Bissau, Guyana, Haiti, Honduras, Hungary, Iceland, India, Indonesia, Iran, Iraq, Ireland, Israel, Italy, Jamaica, Japan, Jordan, Kazakhstan, Kenya, Kiribati, Korea,  North, Korea.1,  South, Kosovo, Kuwait, Kyrgyzstan, Laos, Latvia, ...]\n",
       "Index: []\n",
       "\n",
       "[0 rows x 202 columns]"
      ],
      "text/html": [
       "<div>\n",
       "<style scoped>\n",
       "    .dataframe tbody tr th:only-of-type {\n",
       "        vertical-align: middle;\n",
       "    }\n",
       "\n",
       "    .dataframe tbody tr th {\n",
       "        vertical-align: top;\n",
       "    }\n",
       "\n",
       "    .dataframe thead th {\n",
       "        text-align: right;\n",
       "    }\n",
       "</style>\n",
       "<table border=\"1\" class=\"dataframe\">\n",
       "  <thead>\n",
       "    <tr style=\"text-align: right;\">\n",
       "      <th></th>\n",
       "      <th>Afghanistan</th>\n",
       "      <th>Albania</th>\n",
       "      <th>Algeria</th>\n",
       "      <th>Andorra</th>\n",
       "      <th>Angola</th>\n",
       "      <th>Antigua and Barbuda</th>\n",
       "      <th>Argentina</th>\n",
       "      <th>Armenia</th>\n",
       "      <th>Australia</th>\n",
       "      <th>Austria</th>\n",
       "      <th>...</th>\n",
       "      <th>Uruguay</th>\n",
       "      <th>Uzbekistan</th>\n",
       "      <th>Vanuatu</th>\n",
       "      <th>Vatican City (Holy See)</th>\n",
       "      <th>Venezuela</th>\n",
       "      <th>Vietnam</th>\n",
       "      <th>Yemen</th>\n",
       "      <th>Zambia</th>\n",
       "      <th>Zimbabwe</th>\n",
       "      <th>Unnamed: 201</th>\n",
       "    </tr>\n",
       "  </thead>\n",
       "  <tbody>\n",
       "  </tbody>\n",
       "</table>\n",
       "<p>0 rows × 202 columns</p>\n",
       "</div>"
      ]
     },
     "execution_count": 8,
     "metadata": {},
     "output_type": "execute_result"
    }
   ],
   "execution_count": 8
  },
  {
   "metadata": {},
   "cell_type": "markdown",
   "source": "consider only those years where's data about tourism receipts",
   "id": "9c00e653eb248a9f"
  },
  {
   "metadata": {
    "ExecuteTime": {
     "end_time": "2024-12-26T13:15:02.332519Z",
     "start_time": "2024-12-26T13:15:02.315247Z"
    }
   },
   "cell_type": "code",
   "source": [
    "dtoplt = df[['country', 'gdp', 'tourism_receipts', 'year']] #data to plot\n",
    "dtoplt = dtoplt[\n",
    "    (dtoplt['country'].isin(countries)) &\n",
    "    (dtoplt['tourism_receipts'].notna())\n",
    "].sort_values(by='gdp', ascending=False)\n",
    "len(dtoplt)"
   ],
   "id": "573b982459011e00",
   "outputs": [
    {
     "data": {
      "text/plain": [
       "2829"
      ]
     },
     "execution_count": 12,
     "metadata": {},
     "output_type": "execute_result"
    }
   ],
   "execution_count": 12
  },
  {
   "metadata": {},
   "cell_type": "markdown",
   "source": "Handle NaN gdp values. Let's put into it gdp from a year before",
   "id": "ab7758e63111b845"
  },
  {
   "metadata": {
    "ExecuteTime": {
     "end_time": "2024-12-26T13:15:06.986772Z",
     "start_time": "2024-12-26T13:15:06.969794Z"
    }
   },
   "cell_type": "code",
   "source": [
    "#find other rows and take that with year closest to year of row where we have NaN gdp\n",
    "def fix_nan_gdp(country):\n",
    "\n",
    "    country_data = dtoplt[dtoplt['country'] == country]\n",
    "\n",
    "    nan_gdp_rows = country_data[country_data['gdp'].isna()]\n",
    "    non_nan_gdp_rows = country_data[~country_data['gdp'].isna()]\n",
    "    if not nan_gdp_rows.empty and not non_nan_gdp_rows.empty:\n",
    "        nan_years = nan_gdp_rows['year'].to_numpy()\n",
    "        non_nan_years = non_nan_gdp_rows['year'].to_numpy()\n",
    "\n",
    "        closest_years = np.abs(nan_years[:, None] - non_nan_years).argmin(axis=1)\n",
    "        closest_gdp_vals = non_nan_gdp_rows.iloc[closest_years]['gdp'].to_numpy()\n",
    "        dtoplt.loc[(dtoplt['country'] == country) & (dtoplt['gdp'].isna()), 'gdp'] = closest_gdp_vals\n",
    "\n",
    "fix_nan_gdp('South Sudan')\n",
    "fix_nan_gdp('Eritrea')\n",
    "\n"
   ],
   "id": "891011c5fc69e4f8",
   "outputs": [],
   "execution_count": 14
  },
  {
   "metadata": {
    "ExecuteTime": {
     "end_time": "2024-12-26T13:15:08.831105Z",
     "start_time": "2024-12-26T13:15:08.817346Z"
    }
   },
   "cell_type": "code",
   "source": "dtoplt[dtoplt['gdp'].isna()]",
   "id": "468f017e8de3fa61",
   "outputs": [
    {
     "data": {
      "text/plain": [
       "Empty DataFrame\n",
       "Columns: [country, gdp, tourism_receipts, year]\n",
       "Index: []"
      ],
      "text/html": [
       "<div>\n",
       "<style scoped>\n",
       "    .dataframe tbody tr th:only-of-type {\n",
       "        vertical-align: middle;\n",
       "    }\n",
       "\n",
       "    .dataframe tbody tr th {\n",
       "        vertical-align: top;\n",
       "    }\n",
       "\n",
       "    .dataframe thead th {\n",
       "        text-align: right;\n",
       "    }\n",
       "</style>\n",
       "<table border=\"1\" class=\"dataframe\">\n",
       "  <thead>\n",
       "    <tr style=\"text-align: right;\">\n",
       "      <th></th>\n",
       "      <th>country</th>\n",
       "      <th>gdp</th>\n",
       "      <th>tourism_receipts</th>\n",
       "      <th>year</th>\n",
       "    </tr>\n",
       "  </thead>\n",
       "  <tbody>\n",
       "  </tbody>\n",
       "</table>\n",
       "</div>"
      ]
     },
     "execution_count": 15,
     "metadata": {},
     "output_type": "execute_result"
    }
   ],
   "execution_count": 15
  }
 ],
 "metadata": {
  "kernelspec": {
   "display_name": "Python 3",
   "language": "python",
   "name": "python3"
  },
  "language_info": {
   "codemirror_mode": {
    "name": "ipython",
    "version": 2
   },
   "file_extension": ".py",
   "mimetype": "text/x-python",
   "name": "python",
   "nbconvert_exporter": "python",
   "pygments_lexer": "ipython2",
   "version": "2.7.6"
  }
 },
 "nbformat": 4,
 "nbformat_minor": 5
}
